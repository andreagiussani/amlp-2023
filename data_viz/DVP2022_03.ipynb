{
  "nbformat": 4,
  "nbformat_minor": 0,
  "metadata": {
    "colab": {
      "provenance": []
    },
    "kernelspec": {
      "name": "python3",
      "display_name": "Python 3"
    },
    "language_info": {
      "name": "python"
    }
  },
  "cells": [
    {
      "cell_type": "code",
      "execution_count": null,
      "metadata": {
        "id": "7YI2D9qqyPvX"
      },
      "outputs": [],
      "source": [
        "from google.colab import drive\n",
        "drive.mount('/content/drive')"
      ]
    },
    {
      "cell_type": "code",
      "source": [
        "filename = 'data/stocks/msft_june_2020.csv'"
      ],
      "metadata": {
        "id": "9Qzu8ox93AVO"
      },
      "execution_count": null,
      "outputs": []
    },
    {
      "cell_type": "code",
      "source": [
        "import pandas as pd\n",
        "amzn_df = pd.read_csv(filename, index_col=0, parse_dates=['Date'])"
      ],
      "metadata": {
        "id": "iGq947C43Pu6"
      },
      "execution_count": null,
      "outputs": []
    },
    {
      "cell_type": "code",
      "source": [
        "amzn_df.info()"
      ],
      "metadata": {
        "id": "n8QFGqPP3c-l"
      },
      "execution_count": null,
      "outputs": []
    },
    {
      "cell_type": "code",
      "source": [
        "amzn_df.head()"
      ],
      "metadata": {
        "id": "UrjXnh103fIE"
      },
      "execution_count": null,
      "outputs": []
    },
    {
      "cell_type": "code",
      "source": [
        "# 1. Plot the series of AMZN June 2020"
      ],
      "metadata": {
        "id": "f21Z8cnO3pRR"
      },
      "execution_count": null,
      "outputs": []
    },
    {
      "cell_type": "code",
      "source": [
        "%matplotlib inline\n",
        "import matplotlib.pyplot as plt\n",
        "fig, ax = plt.subplots()\n",
        "ax.plot(amzn_df['Date'], amzn_df['Close'])\n",
        "# plt.show()"
      ],
      "metadata": {
        "id": "ypJVAWP75LUm"
      },
      "execution_count": null,
      "outputs": []
    },
    {
      "cell_type": "markdown",
      "source": [
        "x-ticks management"
      ],
      "metadata": {
        "id": "FAXKJUQZ7Dcg"
      }
    },
    {
      "cell_type": "code",
      "source": [
        "amzn_df['Date'].min()"
      ],
      "metadata": {
        "id": "ZdCqCtBB7J6-"
      },
      "execution_count": null,
      "outputs": []
    },
    {
      "cell_type": "code",
      "source": [
        "amzn_df['Date'].max()"
      ],
      "metadata": {
        "id": "su2YWoYv5pKz"
      },
      "execution_count": null,
      "outputs": []
    },
    {
      "cell_type": "code",
      "source": [
        "amzn_df['Date'].max() + pd.DateOffset(1)"
      ],
      "metadata": {
        "id": "4bAI1SPX8-sB"
      },
      "execution_count": null,
      "outputs": []
    },
    {
      "cell_type": "code",
      "source": [
        "my_dates = list(\n",
        "pd.date_range(\n",
        "    start = amzn_df['Date'].min(),\n",
        "    end = amzn_df['Date'].max() + pd.DateOffset(1),\n",
        "    freq= pd.offsets.Day(3)\n",
        "))"
      ],
      "metadata": {
        "id": "59ZMOygP7LZ-"
      },
      "execution_count": null,
      "outputs": []
    },
    {
      "cell_type": "code",
      "source": [
        "my_datetime = [pd.to_datetime(elem).date() for elem in my_dates]\n",
        "yticks = list(range(round(amzn_df['Close'].min()), round(amzn_df['Close'].max()), 30))"
      ],
      "metadata": {
        "id": "wUJNbHsf-Srb"
      },
      "execution_count": null,
      "outputs": []
    },
    {
      "cell_type": "code",
      "source": [
        "my_datetime"
      ],
      "metadata": {
        "id": "9Ma_BGta-rhp"
      },
      "execution_count": null,
      "outputs": []
    },
    {
      "cell_type": "code",
      "source": [
        "fig, ax = plt.subplots(figsize=(10,8))\n",
        "ax.plot(amzn_df['Date'], amzn_df['Close'])\n",
        "ax.plot(amzn_df['Date'], amzn_df['Close'], marker='*')\n",
        "ax.set_xticklabels(my_datetime, rotation=45)\n",
        "ax.set_xlabel('Trading Day')\n",
        "ax.set_ylabel('Close Price')\n",
        "ax.set_title('Time Series of the AMZN Stock in June 2020')\n",
        "plt.grid(True)\n",
        "plt.show()"
      ],
      "metadata": {
        "id": "XzZO8vJlEWCv"
      },
      "execution_count": null,
      "outputs": []
    },
    {
      "cell_type": "code",
      "source": [
        "with plt.style.context('ggplot'):\n",
        "  fig, ax = plt.subplots(figsize=(10,8))\n",
        "  ax.plot(amzn_df['Date'], amzn_df['Close'])\n",
        "  ax.plot(amzn_df['Date'], amzn_df['Close'], marker='*')\n",
        "  ax.set_xticklabels(my_datetime, rotation=45)\n",
        "  ax.set_xlabel('Trading Day')\n",
        "  ax.set_ylabel('Close Price')\n",
        "  ax.set_title('Time Series of the AMZN Stock in June 2020')\n",
        "  plt.show()"
      ],
      "metadata": {
        "id": "mi4LDoTC7qiV"
      },
      "execution_count": null,
      "outputs": []
    },
    {
      "cell_type": "code",
      "source": [
        "with plt.style.context('seaborn'):\n",
        "  fig, ax = plt.subplots(figsize=(10,8))\n",
        "  ax.plot(amzn_df['Date'], amzn_df['Close'])\n",
        "  ax.plot(amzn_df['Date'], amzn_df['Close'], marker='*')\n",
        "  ax.set_xticklabels(my_datetime, rotation=45)\n",
        "  ax.set_xlabel('Trading Day')\n",
        "  ax.set_ylabel('Close Price')\n",
        "  ax.set_title('Time Series of the AMZN Stock in June 2020')\n",
        "  plt.show()"
      ],
      "metadata": {
        "id": "myX8bqLz95it"
      },
      "execution_count": null,
      "outputs": []
    },
    {
      "cell_type": "markdown",
      "source": [
        "## Suppose we have two series: how can i plot them in just one lot?"
      ],
      "metadata": {
        "id": "IQMhn0arLvi8"
      }
    },
    {
      "cell_type": "code",
      "source": [
        "filename = '/content/drive/MyDrive/Bocconi/Data Visualization with Python/data/msft_june_2020.csv'\n",
        "msft_df = pd.read_csv(filename, index_col=0, parse_dates=['Date'])"
      ],
      "metadata": {
        "id": "-4UAtQ5RCq7H"
      },
      "execution_count": null,
      "outputs": []
    },
    {
      "cell_type": "code",
      "source": [
        "msft_df.head()"
      ],
      "metadata": {
        "id": "mtmVxBunMDyM"
      },
      "execution_count": null,
      "outputs": []
    },
    {
      "cell_type": "code",
      "source": [
        "with plt.style.context('seaborn'):\n",
        "  fig, ax = plt.subplots(figsize=(10,8), nrows=2, ncols=1)\n",
        "  ax[0].plot(amzn_df['Date'], amzn_df['Close'])\n",
        "  ax[1].plot(msft_df['Date'], msft_df['Close'])\n",
        "  ax[0].set_xticks([])\n",
        "  ax[1].set_xlabel('Trading Day')\n",
        "  ax[0].set_ylabel('Close AMZN Price')\n",
        "  ax[1].set_ylabel('Close MSFT Price')\n",
        "  ax[0].set_title('Time Series of the AMZN and MSFT Stock in June 2020')\n",
        "  ax[1].set_xticks(my_datetime)\n",
        "  ax[1].set_xticklabels(my_datetime, rotation=45)\n",
        "  plt.show()"
      ],
      "metadata": {
        "id": "qWJvxr0ZMGSU"
      },
      "execution_count": null,
      "outputs": []
    },
    {
      "cell_type": "code",
      "source": [
        "msft_df.index[8]"
      ],
      "metadata": {
        "id": "IYmphggTMmcu"
      },
      "execution_count": null,
      "outputs": []
    },
    {
      "cell_type": "code",
      "source": [
        "my_datetime"
      ],
      "metadata": {
        "id": "RWvXVgH4U4WP"
      },
      "execution_count": null,
      "outputs": []
    },
    {
      "cell_type": "code",
      "source": [
        "with plt.style.context('seaborn'):\n",
        "  fig, ax = plt.subplots(figsize=(10,8))\n",
        "  ax.plot(amzn_df['Date'], amzn_df['Close'], color = 'red', label='Amazon')\n",
        "  ax.set_xticks(my_datetime)\n",
        "  ax.set_xticklabels(my_datetime, rotation=45)\n",
        "  ax.set_xlabel('Trading Day')\n",
        "  ax.set_ylabel('Close AMZN Price')\n",
        "  # ax.set_title('Time Series of the AMZN and MSFT Stock in June 2020')\n",
        "\n",
        "  ax2 = ax.twinx() \n",
        "\n",
        "  ax2.plot(msft_df['Date'], msft_df['Close'], color = 'blue', label='Microsoft')\n",
        "  ax2.set_xlabel('Trading Day')\n",
        "  ax2.set_ylabel('Close MSFT Price')\n",
        "\n",
        "  ax.annotate(\n",
        "      \"FB Q2 Results\",\n",
        "      xytext=(my_datetime[2], amzn_df['Close'][2]),\n",
        "      xy = (my_datetime[3], 2520),\n",
        "      arrowprops={'linestyle': '--', 'color': 'red', 'arrowstyle':'->'},\n",
        "      weight='bold',\n",
        "      fontsize=12\n",
        "  )\n",
        "\n",
        "\n",
        "  handles, labels = ax.get_legend_handles_labels()\n",
        "  handles2, labels2 = ax2.get_legend_handles_labels()\n",
        "\n",
        "  ax2.legend(handles + handles2, labels + labels2, loc='lower right', title='Stocks June 2020')\n",
        "\n",
        "  plt.show()"
      ],
      "metadata": {
        "id": "u31s6V7sP4t9"
      },
      "execution_count": null,
      "outputs": []
    },
    {
      "cell_type": "code",
      "source": [],
      "metadata": {
        "id": "Y61vSvgERJPg"
      },
      "execution_count": null,
      "outputs": []
    }
  ]
}