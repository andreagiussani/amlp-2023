{
  "nbformat": 4,
  "nbformat_minor": 0,
  "metadata": {
    "colab": {
      "provenance": []
    },
    "kernelspec": {
      "name": "python3",
      "display_name": "Python 3"
    },
    "language_info": {
      "name": "python"
    },
    "accelerator": "GPU"
  },
  "cells": [
    {
      "cell_type": "code",
      "execution_count": null,
      "metadata": {
        "id": "05LN7yIBs9OR"
      },
      "outputs": [],
      "source": [
        "from google.colab import drive\n",
        "drive.mount('/content/drive')"
      ]
    },
    {
      "cell_type": "markdown",
      "source": [
        "## Let's import some data"
      ],
      "metadata": {
        "id": "tjhZecup3Bj3"
      }
    },
    {
      "cell_type": "code",
      "source": [
        "import pandas as pd\n",
        "df = pd.read_csv('/data/CompanyValues.csv'"
      ],
      "metadata": {
        "id": "apEgB3l839at"
      },
      "execution_count": null,
      "outputs": []
    },
    {
      "cell_type": "code",
      "source": [
        "df.head()"
      ],
      "metadata": {
        "id": "VrwoPNnX9ZgP"
      },
      "execution_count": null,
      "outputs": []
    },
    {
      "cell_type": "code",
      "source": [
        "df['ticker_symbol'].unique()"
      ],
      "metadata": {
        "id": "3Yk_aFdB90NO"
      },
      "execution_count": null,
      "outputs": []
    },
    {
      "cell_type": "code",
      "source": [
        "df.shape"
      ],
      "metadata": {
        "id": "liVHCAS6-O0u"
      },
      "execution_count": null,
      "outputs": []
    },
    {
      "cell_type": "code",
      "source": [
        "df.info()"
      ],
      "metadata": {
        "id": "r6C_2vTy-kre"
      },
      "execution_count": null,
      "outputs": []
    },
    {
      "cell_type": "code",
      "source": [
        "df.describe()"
      ],
      "metadata": {
        "id": "8Oe41gIM-thN"
      },
      "execution_count": null,
      "outputs": []
    },
    {
      "cell_type": "code",
      "source": [
        "company_df = pd.read_csv('/data/Company.csv')"
      ],
      "metadata": {
        "id": "wz0Ii8c7-_Lu"
      },
      "execution_count": null,
      "outputs": []
    },
    {
      "cell_type": "code",
      "source": [
        "company_df"
      ],
      "metadata": {
        "id": "UNlKVA7CEvvW"
      },
      "execution_count": null,
      "outputs": []
    },
    {
      "cell_type": "code",
      "source": [
        "my_columns = ['ticker_symbol',\t'day_date',\t'close_value']\n",
        "df.loc[0:5, my_columns]"
      ],
      "metadata": {
        "id": "2ijnFuvRDAVa"
      },
      "execution_count": null,
      "outputs": []
    },
    {
      "cell_type": "code",
      "source": [
        "joined_df = company_df.merge(df[my_columns], on='ticker_symbol')\n",
        "# SELECT * FROM COMPANY_DF as a INNER JOIN DF as b on a.ticker_symbol = b.ticker_symbol "
      ],
      "metadata": {
        "id": "s21yivXs_jlP"
      },
      "execution_count": null,
      "outputs": []
    },
    {
      "cell_type": "code",
      "source": [
        "joined_df.head()"
      ],
      "metadata": {
        "id": "H_DVfNb5_lAO"
      },
      "execution_count": null,
      "outputs": []
    },
    {
      "cell_type": "code",
      "source": [],
      "metadata": {
        "id": "UDfw50QsIGIP"
      },
      "execution_count": null,
      "outputs": []
    },
    {
      "cell_type": "code",
      "source": [
        "joined_df.ticker_symbol.unique()"
      ],
      "metadata": {
        "id": "8mm3kp5UFbDF"
      },
      "execution_count": null,
      "outputs": []
    },
    {
      "cell_type": "code",
      "source": [
        "boolean_condition = (joined_df['ticker_symbol'] == 'AAPL')&(joined_df['close_value'] >= 114)\n",
        "# perform an if else to generate the same result"
      ],
      "metadata": {
        "id": "eFQAiXAKFxE0"
      },
      "execution_count": null,
      "outputs": []
    },
    {
      "cell_type": "code",
      "source": [
        "joined_df[boolean_condition].ticker_symbol.unique()"
      ],
      "metadata": {
        "id": "BgnwUkzvGb0A"
      },
      "execution_count": null,
      "outputs": []
    },
    {
      "cell_type": "code",
      "source": [
        "joined_df[boolean_condition].ticker_symbol.drop_duplicates()"
      ],
      "metadata": {
        "id": "Y1bhagf4Hte4"
      },
      "execution_count": null,
      "outputs": []
    },
    {
      "cell_type": "code",
      "source": [
        "appl_df = joined_df[boolean_condition]"
      ],
      "metadata": {
        "id": "J3kKuSeMGc1V"
      },
      "execution_count": null,
      "outputs": []
    },
    {
      "cell_type": "code",
      "source": [
        "appl_df.shape"
      ],
      "metadata": {
        "id": "rKycADP_IeEY"
      },
      "execution_count": null,
      "outputs": []
    },
    {
      "cell_type": "code",
      "source": [
        "appl_df2 = joined_df[boolean_condition]"
      ],
      "metadata": {
        "id": "IdSIu86dIcNR"
      },
      "execution_count": null,
      "outputs": []
    },
    {
      "cell_type": "code",
      "source": [
        "appl_df2.shape"
      ],
      "metadata": {
        "id": "9rdjvw3_Ifxo"
      },
      "execution_count": null,
      "outputs": []
    },
    {
      "cell_type": "code",
      "source": [
        "appl_df.close_value.median()"
      ],
      "metadata": {
        "id": "Qj46S1-yHrDV"
      },
      "execution_count": null,
      "outputs": []
    },
    {
      "cell_type": "markdown",
      "source": [
        "## Manipulation and Transformation\n",
        " - Pivoting the table # pd.pivot() or pd.pivot_table()\n",
        " - Grouping the table by some specific keys # pd.group_by()"
      ],
      "metadata": {
        "id": "8i3B9avlJh1Z"
      }
    },
    {
      "cell_type": "code",
      "source": [
        "# how many observations do we have in our df wrt the company name?"
      ],
      "metadata": {
        "id": "_WaDe_mJIJx3"
      },
      "execution_count": null,
      "outputs": []
    },
    {
      "cell_type": "code",
      "source": [
        "joined_df.head()"
      ],
      "metadata": {
        "id": "Phl7JB38KO2R"
      },
      "execution_count": null,
      "outputs": []
    },
    {
      "cell_type": "code",
      "source": [
        "joined_df[['company_name', 'day_date']].groupby('company_name').count()"
      ],
      "metadata": {
        "id": "UVjbz4xTKHzo"
      },
      "execution_count": null,
      "outputs": []
    },
    {
      "cell_type": "markdown",
      "source": [
        "## Introduction to matplotlib"
      ],
      "metadata": {
        "id": "VV7vZ4a-Lg56"
      }
    },
    {
      "cell_type": "code",
      "source": [
        "appl_df.columns"
      ],
      "metadata": {
        "id": "A01MX_asPMLk"
      },
      "execution_count": null,
      "outputs": []
    },
    {
      "cell_type": "code",
      "source": [
        "import matplotlib.pyplot as plt\n",
        "fig, ax = plt.subplots(figsize=(10, 8))\n",
        "ax.plot(appl_df['day_date'], appl_df['close_value'])\n",
        "plt.show()"
      ],
      "metadata": {
        "id": "PzOBYsRZKr_y"
      },
      "execution_count": null,
      "outputs": []
    },
    {
      "cell_type": "code",
      "source": [
        "bool_cond = appl_df['day_date'] >= '2020-01-01'\n",
        "# pd.to_datetime()"
      ],
      "metadata": {
        "id": "PZ1l5FHzP3RU"
      },
      "execution_count": null,
      "outputs": []
    },
    {
      "cell_type": "code",
      "source": [
        "bool_cond.value_counts()"
      ],
      "metadata": {
        "id": "BiXQCJL-Qb2K"
      },
      "execution_count": null,
      "outputs": []
    }
  ]
}