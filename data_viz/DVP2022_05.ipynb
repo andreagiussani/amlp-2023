{
  "nbformat": 4,
  "nbformat_minor": 0,
  "metadata": {
    "colab": {
      "provenance": []
    },
    "kernelspec": {
      "name": "python3",
      "display_name": "Python 3"
    },
    "language_info": {
      "name": "python"
    }
  },
  "cells": [
    {
      "cell_type": "code",
      "execution_count": null,
      "metadata": {
        "id": "ZSBQinOGI96m"
      },
      "outputs": [],
      "source": [
        "from google.colab import drive\n",
        "drive.mount('/content/drive')"
      ]
    },
    {
      "cell_type": "code",
      "source": [
        "import pandas as pd\n",
        "fifa20_df = pd.read_csv('/all_fifa_data.csv')"
      ],
      "metadata": {
        "id": "LAXSydFsJAg7"
      },
      "execution_count": null,
      "outputs": []
    },
    {
      "cell_type": "code",
      "source": [
        "len(list(fifa20_df))"
      ],
      "metadata": {
        "id": "Rw2xi93ZQ4Tw"
      },
      "execution_count": null,
      "outputs": []
    },
    {
      "cell_type": "code",
      "source": [
        "fifa20_df[fifa20_df['short_name'].str.contains('Immobile')]"
      ],
      "metadata": {
        "id": "LQHxPliITrXh"
      },
      "execution_count": null,
      "outputs": []
    },
    {
      "cell_type": "code",
      "source": [
        "filtered_df = fifa20_df[['year', 'short_name', 'overall', 'wage_eur', 'value_eur', 'club_name']]"
      ],
      "metadata": {
        "id": "ryKq10RHSO4J"
      },
      "execution_count": null,
      "outputs": []
    },
    {
      "cell_type": "code",
      "source": [
        "fifa20_df[fifa20_df['short_name']=='Cristiano Ronaldo'][['year', 'short_name', 'overall', 'wage_eur', 'value_eur', 'club_name']]"
      ],
      "metadata": {
        "id": "0Cd0k4CnQjXU"
      },
      "execution_count": null,
      "outputs": []
    },
    {
      "cell_type": "code",
      "source": [
        "from bokeh.plotting import figure, show, output_notebook\n",
        "output_notebook()\n",
        "p = figure(plot_width=500, plot_height=400)\n",
        "p.line(x='year', y='value_eur', source=filtered_df.query(\"short_name=='Cristiano Ronaldo'\"), color='orange', legend_label='CR7')\n",
        "p.line(x='year', y='value_eur', source=filtered_df.query(\"short_name=='J. Vardy'\"), color='blue', legend_label='Vardy')\n",
        "p.line(x='year', y='value_eur', source=filtered_df.query(\"short_name=='C. Immobile'\"), color='red', legend_label='Immobile')\n",
        "p.legend.click_policy='hide'\n",
        "show(p)"
      ],
      "metadata": {
        "id": "fZsBiMb7TXmx"
      },
      "execution_count": null,
      "outputs": []
    },
    {
      "cell_type": "code",
      "source": [
        "from bokeh.models import ColumnDataSource\n",
        "cr7_cds = ColumnDataSource(filtered_df.query(\"short_name=='Cristiano Ronaldo'\"))\n",
        "vardy_cds = ColumnDataSource(filtered_df.query(\"short_name=='J. Vardy'\"))\n",
        "immobile_cds = ColumnDataSource(filtered_df.query(\"short_name=='C. Immobile'\"))"
      ],
      "metadata": {
        "id": "WnKo-m1hRKAZ"
      },
      "execution_count": null,
      "outputs": []
    },
    {
      "cell_type": "code",
      "source": [
        "cr7_cds.data"
      ],
      "metadata": {
        "id": "HfVniHl-ZPaO"
      },
      "execution_count": null,
      "outputs": []
    },
    {
      "cell_type": "code",
      "source": [
        "from bokeh.models import HoverTool\n",
        "HoverTool?"
      ],
      "metadata": {
        "id": "qtVMp0ocaJvA"
      },
      "execution_count": null,
      "outputs": []
    },
    {
      "cell_type": "code",
      "source": [
        "from bokeh.plotting import figure, show, output_notebook\n",
        "output_notebook()\n",
        "\n",
        "tools = [\n",
        "    ('Club', '@club_name'),\n",
        "    ('Overall', '@overall'),\n",
        "    ('Mkt Value', '@value_eur'),\n",
        "]\n",
        "\n",
        "p = figure(plot_width=500, plot_height=400)\n",
        "p.line(x='year', y='value_eur', source=filtered_df.query(\"short_name=='Cristiano Ronaldo'\"), color='orange', legend_label='CR7')\n",
        "p.line(x='year', y='value_eur', source=filtered_df.query(\"short_name=='J. Vardy'\"), color='blue', legend_label='Vardy')\n",
        "p.line(x='year', y='value_eur', source=filtered_df.query(\"short_name=='C. Immobile'\"), color='red', legend_label='Immobile')\n",
        "\n",
        "p.add_tools(HoverTool(tooltips=tools, mode='mouse'))\n",
        "p.legend.click_policy='hide'\n",
        "show(p)"
      ],
      "metadata": {
        "id": "VDDPdDZ-ZQ1k"
      },
      "execution_count": null,
      "outputs": []
    },
    {
      "cell_type": "code",
      "source": [
        "# Other tools: https://docs.bokeh.org/en/latest/docs/user_guide/tools.html?highlight=gestures"
      ],
      "metadata": {
        "id": "UeWigjrwauWk"
      },
      "execution_count": null,
      "outputs": []
    }
  ]
}