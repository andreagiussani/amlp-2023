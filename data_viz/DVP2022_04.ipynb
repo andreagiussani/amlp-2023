{
  "nbformat": 4,
  "nbformat_minor": 0,
  "metadata": {
    "colab": {
      "provenance": []
    },
    "kernelspec": {
      "name": "python3",
      "display_name": "Python 3"
    },
    "language_info": {
      "name": "python"
    }
  },
  "cells": [
    {
      "cell_type": "code",
      "execution_count": null,
      "metadata": {
        "id": "oz1V2X5IdqZe"
      },
      "outputs": [],
      "source": [
        "from google.colab import drive\n",
        "drive.mount('/content/drive')"
      ]
    },
    {
      "cell_type": "code",
      "source": [
        "import pandas as pd\n",
        "fifa20_df = pd.read_csv('data/fifa20_sample.csv')"
      ],
      "metadata": {
        "id": "rNbx7B_Ke_OI"
      },
      "execution_count": null,
      "outputs": []
    },
    {
      "cell_type": "markdown",
      "source": [
        "## Get Top 10 Represented Countries"
      ],
      "metadata": {
        "id": "gqovELHXhAXS"
      }
    },
    {
      "cell_type": "code",
      "source": [
        "cnt_df = fifa20_df[['Country', 'Name']].groupby('Country').count().rename(columns={'Name':'Number of Players'})"
      ],
      "metadata": {
        "id": "_-bJfIFBfAqb"
      },
      "execution_count": null,
      "outputs": []
    },
    {
      "cell_type": "code",
      "source": [
        "cnt_df_sorted = cnt_df.sort_values(by='Number of Players', ascending=False)"
      ],
      "metadata": {
        "id": "uS4nvHxafEtl"
      },
      "execution_count": null,
      "outputs": []
    },
    {
      "cell_type": "code",
      "source": [
        "top_10_df = cnt_df_sorted.head(10)"
      ],
      "metadata": {
        "id": "fijI0CVGfTs6"
      },
      "execution_count": null,
      "outputs": []
    },
    {
      "cell_type": "code",
      "source": [
        "import matplotlib.pyplot as plt"
      ],
      "metadata": {
        "id": "uFK8xWgVfF9E"
      },
      "execution_count": null,
      "outputs": []
    },
    {
      "cell_type": "code",
      "source": [
        "fig, ax = plt.subplots(figsize=(10,8))\n",
        "ax.bar(top_10_df.index, top_10_df['Number of Players'], color='green')\n",
        "ax.set_ylabel('Number of Players by Country')\n",
        "ax.set_xticklabels(top_10_df.index, rotation=45)\n",
        "plt.show()\n",
        "plt.savefig('mty_path')"
      ],
      "metadata": {
        "id": "WWGnf4nrfOAT"
      },
      "execution_count": null,
      "outputs": []
    },
    {
      "cell_type": "code",
      "source": [
        "fifa20_df.head()"
      ],
      "metadata": {
        "id": "b0pg3LkdK_Pk"
      },
      "execution_count": null,
      "outputs": []
    },
    {
      "cell_type": "markdown",
      "source": [
        "## Histogram\n",
        "### Can we infer some distribution in the data?"
      ],
      "metadata": {
        "id": "cCV0uF35gvDk"
      }
    },
    {
      "cell_type": "code",
      "source": [
        "def normalize_data(fifa20_df):\n",
        "  normalized_df=(fifa20_df['Overall']-fifa20_df['Overall'].mean() )/fifa20_df['Overall'].std()\n",
        "  normalized_df = normalized_df[~normalized_df.isna()].to_frame() \n",
        "  return normalized_df"
      ],
      "metadata": {
        "id": "VJy0w-tGfPDk"
      },
      "execution_count": null,
      "outputs": []
    },
    {
      "cell_type": "code",
      "source": [
        "normalized_df = normalize_data(fifa20_df)"
      ],
      "metadata": {
        "id": "CoryMStWfr7U"
      },
      "execution_count": null,
      "outputs": []
    },
    {
      "cell_type": "code",
      "source": [
        "fig, ax = plt.subplots()\n",
        "ax.hist(normalized_df['Overall'], label='overall skill')\n",
        "ax.set_xlabel('Normalized Wage')\n",
        "ax.set_ylabel('Number of observations')\n",
        "ax.set_xlim([-5,5])\n",
        "plt.legend()\n",
        "plt.show()"
      ],
      "metadata": {
        "id": "BJL12_PFfsVh"
      },
      "execution_count": null,
      "outputs": []
    },
    {
      "cell_type": "code",
      "source": [
        "fig, ax = plt.subplots()\n",
        "ax.hist(normalized_df['Overall'], label='overall skill', bins=70)\n",
        "ax.set_xlabel('Normalized Wage')\n",
        "ax.set_ylabel('Number of observations')\n",
        "ax.set_xlim([-5,5])\n",
        "plt.legend()\n",
        "plt.show()"
      ],
      "metadata": {
        "id": "4uS8c65CfvE0"
      },
      "execution_count": null,
      "outputs": []
    },
    {
      "cell_type": "code",
      "source": [
        "england = normalize_data(fifa20_df[fifa20_df[\"Country\"]=='England'].reset_index(drop=True))\n",
        "italy = normalize_data(fifa20_df[fifa20_df[\"Country\"]=='Italy'].reset_index(drop=True))\n",
        "spain = normalize_data(fifa20_df[fifa20_df[\"Country\"]=='Spain'].reset_index(drop=True))"
      ],
      "metadata": {
        "id": "iIaosjJyf4KA"
      },
      "execution_count": null,
      "outputs": []
    },
    {
      "cell_type": "code",
      "source": [
        "fig, ax = plt.subplots()\n",
        "ax.hist(england['Overall'], label='England - Overall', bins=70)\n",
        "ax.hist(italy['Overall'], label='Italy - Overall', bins=70)\n",
        "ax.hist(spain['Overall'], label='Spain - Overall', bins=70)\n",
        "ax.set_xlabel('Normalized Wage')\n",
        "ax.set_ylabel('Number of observations')\n",
        "ax.set_xlim([-5,5])\n",
        "plt.legend()\n",
        "plt.show()"
      ],
      "metadata": {
        "id": "5Uv-jvNGgOV5"
      },
      "execution_count": null,
      "outputs": []
    },
    {
      "cell_type": "code",
      "source": [
        "fig, ax = plt.subplots()\n",
        "ax.hist(england['Overall'], label='England - Overall',bins=70, histtype='step', color='purple')\n",
        "ax.hist(italy['Overall'], label='Italy - Overall', bins=70, histtype='step') \n",
        "ax.hist(spain['Overall'], label='Spain - Overall', bins=70, histtype='step')\n",
        "ax.set_xlabel('Normalized Wage')\n",
        "ax.set_ylabel('Number of observations')\n",
        "ax.set_xlim([-5,5])\n",
        "plt.legend()\n",
        "plt.show()"
      ],
      "metadata": {
        "id": "kiGp3h2ZgShk"
      },
      "execution_count": null,
      "outputs": []
    },
    {
      "cell_type": "markdown",
      "source": [
        "# Box Plot\n",
        "## The statistical way to visualize data"
      ],
      "metadata": {
        "id": "HqfSDp68g2qw"
      }
    },
    {
      "cell_type": "code",
      "source": [
        "fig, ax = plt.subplots()\n",
        "bp = ax.boxplot(\n",
        "[england['Overall'], italy['Overall'], spain['Overall']], showfliers=True, patch_artist=True\n",
        ")\n",
        "ax.set_xticklabels(['England', 'Italy', 'Spain'])\n",
        "ax.set_ylabel('Overall Skill')\n",
        "plt.show()"
      ],
      "metadata": {
        "id": "cHtZHiiVgcGc"
      },
      "execution_count": null,
      "outputs": []
    },
    {
      "cell_type": "markdown",
      "source": [
        "## End"
      ],
      "metadata": {
        "id": "M_G0tdcJg9Wa"
      }
    }
  ]
}